{
 "cells": [
  {
   "cell_type": "markdown",
   "metadata": {},
   "source": [
    "# Planetary Positions\n",
    "## PHYS 1211 Final Project by Danielle Manos, Aly Uy, Danny White\n",
    "\n",
    "### Introduction\n",
    "    As on Earth, coordinate systems have been implemented in our solar system and beyond to aid astronomers in locating and tracking celestial bodies. There are four different celestial coordinate systems, each with its own unique reference points and scientific applications. The systems increase in scale, from utilization on Earth to utilization to pinpoint galactic locations. These are the horizon system, the ecliptic system, the equatorial system, and the galactic system.\n",
    "    The horizon system is based on altitude, defined as angular elevation from the Earth’s horizon, and azimuth, which is the angle beginning in the north and going clockwise around the horizon. This system is useful when navigating using celestial bodies. The ecliptic system uses celestial latitude and longitude. These are defined with respect to the ecliptic, which is the apparent annual path of the sun, and the ecliptic pole, which is a line perpendicular to Earth’s orbit around the sun, the ecliptic plane. Celestial latitude is measured in degrees north or south from the ecliptic to the ecliptic poles. Celestial longitude is measured east from the first point of Aries, the intersection of the ecliptic with the celestial equator. The celestial poles are a projection of Earth’s poles into space, and the celestial equator is the projection of Earth’s equator into space. The ecliptic system is useful for referring to objects within the solar system.\n",
    "    The equatorial system is based on right ascension, which like celestial longitude is measured east from the first point of Aries, and declination, which is the angular distance north or south of the celestial equator. The equatorial system is useful when referring to objects beyond the solar system. Finally, the galactic system uses the galactic equator, which is centered in the Milky Way, and galactic latitude and longitude. Galactic latitude is measured in degrees north or south of the galactic equator, while galactic longitude is measured with reference to a point in the constellation Sagittarius. The galactic system is useful when referring to the larger structures within the Milky Way.\n",
    "\n",
    "### In The Context of Physics\n",
    "    For this project, since we are dealing with the locations of planets within our solar system, we will have created our program based on the ecliptic system. We transferred the system into a polar coordinate system that showcases the locations of the planets with respect to each other and the Earth. In the broad scope of physics, this project synthesizes a lot of different astronomical data. It utilizes historical records of planetary positions, orbital velocities, and distances between a planet and other planets, and a planet and the sun. Our program can serve as a reference to astrophysicists looking to determine the specific locations of planets in space relative to Earth. More advanced programs of this nature may be three-dimensional and can include real images of celestial objects, both within our solar system and far beyond. These can be utilized by astrophysicists and space agencies to calculate trajectories for spaceflight or study how objects are moving either closer to or farther away from other objects as the universe expands.\n",
    "    \n",
    "### Computational Demonstration\n",
    "\n",
    "\n",
    "### Data and Results\n",
    "\n",
    "\n",
    "### Conclusion\n",
    "\n",
    "\n",
    "### References\n",
    "U. o. M. A. Department,  (2011). (https://dept.astro.lsa.umich.edu/resources/ugactivities/Labs/coords/)\n",
    "V. Dhillon,  (2009). (http://www.vikdhillon.staff.shef.ac.uk/teaching/phy105/celsphere/phy105_ecliptic.html)\n",
    "V. Dhillon,  (2009). (http://www.vikdhillon.staff.shef.ac.uk/teaching/phy105/celsphere/phy105_equatorial.html)\n",
    "U. o. Rochester. (http://www.pas.rochester.edu/~blackman/ast104/coordinates.html)\n",
    "W. M. Young,  (2018). (https://www.britannica.com/science/astronomical-map)"
   ]
  }
 ],
 "metadata": {
  "kernelspec": {
   "display_name": "Python 3",
   "language": "python",
   "name": "python3"
  },
  "language_info": {
   "codemirror_mode": {
    "name": "ipython",
    "version": 3
   },
   "file_extension": ".py",
   "mimetype": "text/x-python",
   "name": "python",
   "nbconvert_exporter": "python",
   "pygments_lexer": "ipython3",
   "version": "3.7.7"
  }
 },
 "nbformat": 4,
 "nbformat_minor": 4
}
